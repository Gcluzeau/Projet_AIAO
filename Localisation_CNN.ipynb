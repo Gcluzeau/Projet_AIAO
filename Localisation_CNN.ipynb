{
  "nbformat": 4,
  "nbformat_minor": 0,
  "metadata": {
    "colab": {
      "provenance": []
    },
    "kernelspec": {
      "name": "python3",
      "display_name": "Python 3"
    },
    "language_info": {
      "name": "python"
    }
  },
  "cells": [
    {
      "cell_type": "code",
      "source": [
        "import os\n",
        "import requests\n",
        "from tqdm import tqdm\n",
        "import zipfile\n",
        "from pandas import read_csv\n",
        "import numpy as np\n",
        "from sklearn.preprocessing import StandardScaler\n",
        "from sklearn import preprocessing\n",
        "from keras.utils import to_categorical\n",
        "import pandas as pd\n",
        "from sklearn.model_selection import train_test_split\n",
        "from keras.models import Sequential\n",
        "from keras.layers import Dense\n",
        "from keras.layers import Dropout\n",
        "from keras.layers import Conv1D, Flatten\n",
        "from keras.layers import Conv1D, MaxPooling1D\n",
        "\n",
        "from keras.utils import to_categorical\n",
        "import matplotlib.pyplot as plt\n",
        "\n",
        "\n"
      ],
      "metadata": {
        "id": "lWp8HE48ZOBK"
      },
      "execution_count": null,
      "outputs": []
    },
    {
      "cell_type": "code",
      "execution_count": null,
      "metadata": {
        "colab": {
          "base_uri": "https://localhost:8080/"
        },
        "id": "G1v5BGtDU6mg",
        "outputId": "541d857e-ae25-4b57-b14a-e5b80d1d1169"
      },
      "outputs": [
        {
          "output_type": "stream",
          "name": "stdout",
          "text": [
            "####### LOCALIZATION\n"
          ]
        }
      ],
      "source": [
        "# Definition fonction\n",
        "print(\"####### LOCALIZATION\")\n",
        "\n",
        "def download_data():\n",
        "    url=\"https://github.com/JJAlmagro/subcellular_localization/raw/refs/heads/master/notebook%20tutorial/data/reduced_train.npz\"\n",
        "    datasetFolderPath = \"dataset/\"\n",
        "    file = \"reduced_train.npz\"\n",
        "    FilePath = os.path.join(datasetFolderPath, file)\n",
        "\n",
        "    if not os.path.exists(datasetFolderPath):\n",
        "        os.makedirs(datasetFolderPath)\n",
        "\n",
        "    def download_file(url, filename):\n",
        "        response = requests.get(url, stream=True)\n",
        "        with tqdm.wrapattr(open(filename, \"wb\"), \"write\", miniters=1,\n",
        "                           total=int(response.headers.get('content-length', 0)),\n",
        "                           desc=filename) as fout:\n",
        "            for chunk in response.iter_content(chunk_size=4096):\n",
        "                fout.write(chunk)\n",
        "\n",
        "    # Download the zip file if it does not exist\n",
        "    if not os.path.exists(FilePath):\n",
        "        download_file(url, FilePath)\n"
      ]
    },
    {
      "cell_type": "code",
      "source": [
        "# Chargement des données\n",
        "download_data()"
      ],
      "metadata": {
        "id": "pwkv_66oVLBm"
      },
      "execution_count": null,
      "outputs": []
    },
    {
      "cell_type": "code",
      "source": [
        "# Traitement des données\n",
        "file_data_train = \"dataset/reduced_train.npz\"\n",
        "\n",
        "train = np.load(file_data_train)\n",
        "X_train = train[\"X_train\"]\n",
        "Y = train[\"y_train\"]\n",
        "mask_train = train[\"mask_train\"]\n",
        "\n",
        "# Print these to visualize.\n",
        "print(\"Shape of dataset X\")\n",
        "print(X.shape)\n",
        "print(\"Shape of dataset Y\")\n",
        "print(Y.shape)\n",
        "print(\"Shape of dataset Mask\")\n",
        "print(mask_train.shape)\n",
        "classes = preprocessing.LabelEncoder()\n",
        "classes.fit(Y)\n",
        "classes_Y = classes.transform(Y)\n",
        "\n",
        "onehot_Y = to_categorical(classes_Y)\n",
        "\n",
        "print(\"First 5 rows of X_train:\\n\", X[:5])\n",
        "print(\"First 5 elements of Y (original):\\n\", Y[:5])\n",
        "print(\"First 5 rows of mask_train:\\n\", mask_train[:5])\n",
        "\n",
        "print(\"First 5 rows of one-hot encoded Y:\\n\", onehot_Y[:5])"
      ],
      "metadata": {
        "colab": {
          "base_uri": "https://localhost:8080/"
        },
        "id": "8_nTU6W1VTmw",
        "outputId": "296da05b-a1cc-45ab-ae9c-d6b3ead61c96",
        "collapsed": true
      },
      "execution_count": null,
      "outputs": [
        {
          "output_type": "stream",
          "name": "stdout",
          "text": [
            "Shape of dataset X\n",
            "(2423, 400, 20)\n",
            "Shape of dataset Y\n",
            "(2423,)\n",
            "Shape of dataset Mask\n",
            "(2423, 400)\n",
            "First 5 rows of X_train:\n",
            " [[[0.   0.   0.   ... 0.   0.   0.  ]\n",
            "  [1.   0.   0.   ... 0.   0.   0.  ]\n",
            "  [0.   0.   0.   ... 0.   0.   0.  ]\n",
            "  ...\n",
            "  [0.   0.   0.   ... 0.   0.   0.  ]\n",
            "  [0.   0.   0.   ... 0.   0.   0.  ]\n",
            "  [0.   0.   0.   ... 0.   0.   0.  ]]\n",
            "\n",
            " [[0.   0.   0.   ... 0.   0.   0.  ]\n",
            "  [0.   0.48 0.   ... 0.   0.   0.  ]\n",
            "  [0.   0.   0.   ... 0.   0.   0.  ]\n",
            "  ...\n",
            "  [0.   0.   0.   ... 0.   0.   0.  ]\n",
            "  [0.   0.   0.   ... 0.   0.   0.  ]\n",
            "  [0.   0.   0.   ... 0.   0.   0.  ]]\n",
            "\n",
            " [[0.   0.   0.   ... 0.   0.   0.  ]\n",
            "  [1.   0.   0.   ... 0.   0.   0.  ]\n",
            "  [0.   0.   0.   ... 0.   0.   0.  ]\n",
            "  ...\n",
            "  [0.   0.   0.   ... 0.   0.   0.  ]\n",
            "  [0.   0.   0.   ... 0.   0.   0.  ]\n",
            "  [0.   0.   0.   ... 0.   0.   0.  ]]\n",
            "\n",
            " [[0.   0.   0.   ... 0.   0.   0.  ]\n",
            "  [1.   0.   0.   ... 0.   0.   0.  ]\n",
            "  [1.   0.   0.   ... 0.   0.   0.  ]\n",
            "  ...\n",
            "  [0.   0.   0.   ... 0.   0.   0.  ]\n",
            "  [0.   0.   0.   ... 0.   0.   0.  ]\n",
            "  [0.   0.   0.   ... 0.   0.   0.  ]]\n",
            "\n",
            " [[0.   0.   0.   ... 0.   0.   0.34]\n",
            "  [1.   0.   0.   ... 0.   0.   0.  ]\n",
            "  [0.69 0.   0.   ... 0.   0.   0.  ]\n",
            "  ...\n",
            "  [0.   0.   0.   ... 0.   0.   0.  ]\n",
            "  [0.   0.   0.   ... 0.   0.   0.  ]\n",
            "  [0.   0.   0.   ... 0.   0.   0.  ]]]\n",
            "First 5 elements of Y (original):\n",
            " [6 6 6 6 6]\n",
            "First 5 rows of mask_train:\n",
            " [[1. 1. 1. ... 0. 0. 0.]\n",
            " [1. 1. 1. ... 0. 0. 0.]\n",
            " [1. 1. 1. ... 0. 0. 0.]\n",
            " [1. 1. 1. ... 0. 0. 0.]\n",
            " [1. 1. 1. ... 0. 0. 0.]]\n",
            "First 5 rows of one-hot encoded Y:\n",
            " [[0. 0. 0. 0. 0. 0. 1. 0. 0. 0.]\n",
            " [0. 0. 0. 0. 0. 0. 1. 0. 0. 0.]\n",
            " [0. 0. 0. 0. 0. 0. 1. 0. 0. 0.]\n",
            " [0. 0. 0. 0. 0. 0. 1. 0. 0. 0.]\n",
            " [0. 0. 0. 0. 0. 0. 1. 0. 0. 0.]]\n"
          ]
        }
      ]
    },
    {
      "cell_type": "code",
      "source": [
        "# Example: Statistics for the first feature across all samples and time points\n",
        "df = pd.DataFrame(X_train[:, :, 0])\n",
        "stats = df.describe()\n",
        "print(stats)"
      ],
      "metadata": {
        "colab": {
          "base_uri": "https://localhost:8080/"
        },
        "id": "65Lur5F_VZJx",
        "outputId": "228e6337-51ea-4e78-b277-647369b9cec8",
        "collapsed": true
      },
      "execution_count": null,
      "outputs": [
        {
          "output_type": "stream",
          "name": "stdout",
          "text": [
            "               0            1            2            3            4    \\\n",
            "count  2423.000000  2423.000000  2423.000000  2423.000000  2423.000000   \n",
            "mean      0.021865     0.205510     0.099270     0.075233     0.088902   \n",
            "std       0.114765     0.298014     0.175479     0.142319     0.156582   \n",
            "min       0.000000     0.000000     0.000000     0.000000     0.000000   \n",
            "25%       0.000000     0.000000     0.000000     0.000000     0.000000   \n",
            "50%       0.000000     0.050000     0.020000     0.020000     0.030000   \n",
            "75%       0.000000     0.300000     0.120000     0.090000     0.100000   \n",
            "max       1.000000     1.000000     1.000000     1.000000     1.000000   \n",
            "\n",
            "               5            6            7            8            9    ...  \\\n",
            "count  2423.000000  2423.000000  2423.000000  2423.000000  2423.000000  ...   \n",
            "mean      0.085184     0.093553     0.089930     0.100896     0.099030  ...   \n",
            "std       0.145490     0.159008     0.150393     0.156734     0.152685  ...   \n",
            "min       0.000000     0.000000     0.000000     0.000000     0.000000  ...   \n",
            "25%       0.000000     0.000000     0.000000     0.000000     0.000000  ...   \n",
            "50%       0.030000     0.030000     0.030000     0.050000     0.040000  ...   \n",
            "75%       0.110000     0.110000     0.110000     0.120000     0.120000  ...   \n",
            "max       1.000000     1.000000     1.000000     1.000000     1.000000  ...   \n",
            "\n",
            "               390          391          392          393          394  \\\n",
            "count  2423.000000  2423.000000  2423.000000  2423.000000  2423.000000   \n",
            "mean      0.002348     0.002130     0.001725     0.001411     0.000999   \n",
            "std       0.030415     0.030214     0.027501     0.025460     0.016575   \n",
            "min       0.000000     0.000000     0.000000     0.000000     0.000000   \n",
            "25%       0.000000     0.000000     0.000000     0.000000     0.000000   \n",
            "50%       0.000000     0.000000     0.000000     0.000000     0.000000   \n",
            "75%       0.000000     0.000000     0.000000     0.000000     0.000000   \n",
            "max       1.000000     0.900000     0.910000     0.880000     0.630000   \n",
            "\n",
            "               395          396          397          398          399  \n",
            "count  2423.000000  2423.000000  2423.000000  2423.000000  2423.000000  \n",
            "mean      0.000454     0.000446     0.000219     0.000755     0.000103  \n",
            "std       0.007772     0.007622     0.007371     0.025295     0.005079  \n",
            "min       0.000000     0.000000     0.000000     0.000000     0.000000  \n",
            "25%       0.000000     0.000000     0.000000     0.000000     0.000000  \n",
            "50%       0.000000     0.000000     0.000000     0.000000     0.000000  \n",
            "75%       0.000000     0.000000     0.000000     0.000000     0.000000  \n",
            "max       0.260000     0.210000     0.280000     1.000000     0.250000  \n",
            "\n",
            "[8 rows x 400 columns]\n"
          ]
        }
      ]
    },
    {
      "cell_type": "code",
      "source": [
        "# Passage de Y en OneHot\n",
        "y = onehot_Y[:len(df)]\n",
        "y.shape"
      ],
      "metadata": {
        "colab": {
          "base_uri": "https://localhost:8080/"
        },
        "id": "10TG-euvVhWc",
        "outputId": "4b9ed499-d594-47f6-ae51-d7eeba34b6c5"
      },
      "execution_count": null,
      "outputs": [
        {
          "output_type": "execute_result",
          "data": {
            "text/plain": [
              "(2423, 10)"
            ]
          },
          "metadata": {},
          "execution_count": 24
        }
      ]
    },
    {
      "cell_type": "code",
      "source": [
        "# Répartition du jeu de données\n",
        "X_train, X_test, y_train, y_test = train_test_split(X, y, random_state=0, test_size=0.2)"
      ],
      "metadata": {
        "id": "PFC7c2m_Vd6B",
        "colab": {
          "base_uri": "https://localhost:8080/",
          "height": 141
        },
        "outputId": "19a726c7-f353-4293-94e4-b7c67757d5db"
      },
      "execution_count": null,
      "outputs": [
        {
          "output_type": "error",
          "ename": "NameError",
          "evalue": "name 'y' is not defined",
          "traceback": [
            "\u001b[0;31m---------------------------------------------------------------------------\u001b[0m",
            "\u001b[0;31mNameError\u001b[0m                                 Traceback (most recent call last)",
            "\u001b[0;32m<ipython-input-20-4ed58d910b38>\u001b[0m in \u001b[0;36m<cell line: 1>\u001b[0;34m()\u001b[0m\n\u001b[0;32m----> 1\u001b[0;31m \u001b[0mX_train\u001b[0m\u001b[0;34m,\u001b[0m \u001b[0mX_test\u001b[0m\u001b[0;34m,\u001b[0m \u001b[0my_train\u001b[0m\u001b[0;34m,\u001b[0m \u001b[0my_test\u001b[0m \u001b[0;34m=\u001b[0m \u001b[0mtrain_test_split\u001b[0m\u001b[0;34m(\u001b[0m\u001b[0mX\u001b[0m\u001b[0;34m,\u001b[0m \u001b[0my\u001b[0m\u001b[0;34m,\u001b[0m \u001b[0mrandom_state\u001b[0m\u001b[0;34m=\u001b[0m\u001b[0;36m0\u001b[0m\u001b[0;34m,\u001b[0m \u001b[0mtest_size\u001b[0m\u001b[0;34m=\u001b[0m\u001b[0;36m0.2\u001b[0m\u001b[0;34m)\u001b[0m\u001b[0;34m\u001b[0m\u001b[0;34m\u001b[0m\u001b[0m\n\u001b[0m",
            "\u001b[0;31mNameError\u001b[0m: name 'y' is not defined"
          ]
        }
      ]
    },
    {
      "cell_type": "code",
      "source": [
        "\n",
        "# Build the model\n",
        "model = Sequential()\n",
        "model.add(Dense(60, input_shape=(400, 20), kernel_initializer='normal', activation='relu'))\n",
        "model.add(Dropout(0.2))\n",
        "model.add(Dense(128, kernel_initializer='normal', activation='relu'))\n",
        "model.add(MaxPooling1D(pool_size=2))\n",
        "model.add(Dropout(0.2))\n",
        "model.add(Dense(256, kernel_initializer='normal', activation='relu'))\n",
        "model.add(MaxPooling1D(pool_size=2))\n",
        "model.add(Dropout(0.2))\n",
        "model.add(Dense(128, kernel_initializer='normal', activation='relu'))\n",
        "model.add(MaxPooling1D(pool_size=2))\n",
        "model.add(Dropout(0.2))\n",
        "model.add(Flatten())  # Flatten the (400, 256) output into (None, 400 * 256) before final dense layer\n",
        "model.add(Dense(10, kernel_initializer='normal', activation='softmax'))\n",
        "\n",
        "# Compile the model\n",
        "model.compile(loss='categorical_crossentropy', optimizer='adam', metrics=['accuracy'])\n",
        "\n",
        "# Display the model's architecture\n",
        "model.summary()\n",
        "\n",
        "# Train the model with validation data\n",
        "history = model.fit(X_train, y_train, epochs=20, batch_size=100, validation_split=0.2)\n",
        "\n",
        "# Evaluate the model on test data\n",
        "scores = model.evaluate(X_test, y_test)\n",
        "print(\"Neural network accuracy: %.2f%%\" % (scores[1] * 100))\n",
        "\n",
        "# Plot training & validation accuracy values\n",
        "print(history.history.keys())\n",
        "\n",
        "# Accuracy\n",
        "plt.plot(history.history['accuracy'])\n",
        "plt.plot(history.history['val_accuracy'])\n",
        "plt.title('Model Accuracy')\n",
        "plt.ylabel('Accuracy')\n",
        "plt.xlabel('Epoch')\n",
        "plt.legend(['Train', 'Validation'], loc='upper left')\n",
        "plt.show()\n",
        "\n",
        "# Loss\n",
        "plt.plot(history.history['loss'])\n",
        "plt.plot(history.history['val_loss'])\n",
        "plt.title('Model Loss')\n",
        "plt.ylabel('Loss')\n",
        "plt.xlabel('Epoch')\n",
        "plt.legend(['Train', 'Validation'], loc='upper left')\n",
        "plt.show()\n"
      ],
      "metadata": {
        "colab": {
          "base_uri": "https://localhost:8080/",
          "height": 1000
        },
        "id": "IuDy-nDYo_ez",
        "outputId": "aeffae1c-b7c1-417e-f43a-a9f264d57f73",
        "collapsed": true
      },
      "execution_count": null,
      "outputs": [
        {
          "output_type": "stream",
          "name": "stdout",
          "text": [
            "Shape of dataset X: (2423, 400, 20)\n",
            "Shape of dataset Y: (2423,)\n",
            "Shape of dataset Mask: (2423, 400)\n",
            "First 5 rows of X_train:\n",
            " [[[0.   0.   0.   ... 0.   0.   0.  ]\n",
            "  [1.   0.   0.   ... 0.   0.   0.  ]\n",
            "  [0.   0.   0.   ... 0.   0.   0.  ]\n",
            "  ...\n",
            "  [0.   0.   0.   ... 0.   0.   0.  ]\n",
            "  [0.   0.   0.   ... 0.   0.   0.  ]\n",
            "  [0.   0.   0.   ... 0.   0.   0.  ]]\n",
            "\n",
            " [[0.   0.   0.   ... 0.   0.   0.  ]\n",
            "  [0.   0.48 0.   ... 0.   0.   0.  ]\n",
            "  [0.   0.   0.   ... 0.   0.   0.  ]\n",
            "  ...\n",
            "  [0.   0.   0.   ... 0.   0.   0.  ]\n",
            "  [0.   0.   0.   ... 0.   0.   0.  ]\n",
            "  [0.   0.   0.   ... 0.   0.   0.  ]]\n",
            "\n",
            " [[0.   0.   0.   ... 0.   0.   0.  ]\n",
            "  [1.   0.   0.   ... 0.   0.   0.  ]\n",
            "  [0.   0.   0.   ... 0.   0.   0.  ]\n",
            "  ...\n",
            "  [0.   0.   0.   ... 0.   0.   0.  ]\n",
            "  [0.   0.   0.   ... 0.   0.   0.  ]\n",
            "  [0.   0.   0.   ... 0.   0.   0.  ]]\n",
            "\n",
            " [[0.   0.   0.   ... 0.   0.   0.  ]\n",
            "  [1.   0.   0.   ... 0.   0.   0.  ]\n",
            "  [1.   0.   0.   ... 0.   0.   0.  ]\n",
            "  ...\n",
            "  [0.   0.   0.   ... 0.   0.   0.  ]\n",
            "  [0.   0.   0.   ... 0.   0.   0.  ]\n",
            "  [0.   0.   0.   ... 0.   0.   0.  ]]\n",
            "\n",
            " [[0.   0.   0.   ... 0.   0.   0.34]\n",
            "  [1.   0.   0.   ... 0.   0.   0.  ]\n",
            "  [0.69 0.   0.   ... 0.   0.   0.  ]\n",
            "  ...\n",
            "  [0.   0.   0.   ... 0.   0.   0.  ]\n",
            "  [0.   0.   0.   ... 0.   0.   0.  ]\n",
            "  [0.   0.   0.   ... 0.   0.   0.  ]]]\n",
            "First 5 elements of Y (original):\n",
            " [6 6 6 6 6]\n",
            "First 5 rows of mask_train:\n",
            " [[1. 1. 1. ... 0. 0. 0.]\n",
            " [1. 1. 1. ... 0. 0. 0.]\n",
            " [1. 1. 1. ... 0. 0. 0.]\n",
            " [1. 1. 1. ... 0. 0. 0.]\n",
            " [1. 1. 1. ... 0. 0. 0.]]\n",
            "First 5 rows of one-hot encoded Y:\n",
            " [[0. 0. 0. 0. 0. 0. 1. 0. 0. 0.]\n",
            " [0. 0. 0. 0. 0. 0. 1. 0. 0. 0.]\n",
            " [0. 0. 0. 0. 0. 0. 1. 0. 0. 0.]\n",
            " [0. 0. 0. 0. 0. 0. 1. 0. 0. 0.]\n",
            " [0. 0. 0. 0. 0. 0. 1. 0. 0. 0.]]\n",
            "               0            1            2            3            4    \\\n",
            "count  2423.000000  2423.000000  2423.000000  2423.000000  2423.000000   \n",
            "mean      0.021865     0.205510     0.099270     0.075233     0.088902   \n",
            "std       0.114765     0.298014     0.175479     0.142319     0.156582   \n",
            "min       0.000000     0.000000     0.000000     0.000000     0.000000   \n",
            "25%       0.000000     0.000000     0.000000     0.000000     0.000000   \n",
            "50%       0.000000     0.050000     0.020000     0.020000     0.030000   \n",
            "75%       0.000000     0.300000     0.120000     0.090000     0.100000   \n",
            "max       1.000000     1.000000     1.000000     1.000000     1.000000   \n",
            "\n",
            "               5            6            7            8            9    ...  \\\n",
            "count  2423.000000  2423.000000  2423.000000  2423.000000  2423.000000  ...   \n",
            "mean      0.085184     0.093553     0.089930     0.100896     0.099030  ...   \n",
            "std       0.145490     0.159008     0.150393     0.156734     0.152685  ...   \n",
            "min       0.000000     0.000000     0.000000     0.000000     0.000000  ...   \n",
            "25%       0.000000     0.000000     0.000000     0.000000     0.000000  ...   \n",
            "50%       0.030000     0.030000     0.030000     0.050000     0.040000  ...   \n",
            "75%       0.110000     0.110000     0.110000     0.120000     0.120000  ...   \n",
            "max       1.000000     1.000000     1.000000     1.000000     1.000000  ...   \n",
            "\n",
            "               390          391          392          393          394  \\\n",
            "count  2423.000000  2423.000000  2423.000000  2423.000000  2423.000000   \n",
            "mean      0.002348     0.002130     0.001725     0.001411     0.000999   \n",
            "std       0.030415     0.030214     0.027501     0.025460     0.016575   \n",
            "min       0.000000     0.000000     0.000000     0.000000     0.000000   \n",
            "25%       0.000000     0.000000     0.000000     0.000000     0.000000   \n",
            "50%       0.000000     0.000000     0.000000     0.000000     0.000000   \n",
            "75%       0.000000     0.000000     0.000000     0.000000     0.000000   \n",
            "max       1.000000     0.900000     0.910000     0.880000     0.630000   \n",
            "\n",
            "               395          396          397          398          399  \n",
            "count  2423.000000  2423.000000  2423.000000  2423.000000  2423.000000  \n",
            "mean      0.000454     0.000446     0.000219     0.000755     0.000103  \n",
            "std       0.007772     0.007622     0.007371     0.025295     0.005079  \n",
            "min       0.000000     0.000000     0.000000     0.000000     0.000000  \n",
            "25%       0.000000     0.000000     0.000000     0.000000     0.000000  \n",
            "50%       0.000000     0.000000     0.000000     0.000000     0.000000  \n",
            "75%       0.000000     0.000000     0.000000     0.000000     0.000000  \n",
            "max       0.260000     0.210000     0.280000     1.000000     0.250000  \n",
            "\n",
            "[8 rows x 400 columns]\n"
          ]
        },
        {
          "output_type": "stream",
          "name": "stderr",
          "text": [
            "/usr/local/lib/python3.10/dist-packages/keras/src/layers/core/dense.py:87: UserWarning: Do not pass an `input_shape`/`input_dim` argument to a layer. When using Sequential models, prefer using an `Input(shape)` object as the first layer in the model instead.\n",
            "  super().__init__(activity_regularizer=activity_regularizer, **kwargs)\n"
          ]
        },
        {
          "output_type": "display_data",
          "data": {
            "text/plain": [
              "\u001b[1mModel: \"sequential_13\"\u001b[0m\n"
            ],
            "text/html": [
              "<pre style=\"white-space:pre;overflow-x:auto;line-height:normal;font-family:Menlo,'DejaVu Sans Mono',consolas,'Courier New',monospace\"><span style=\"font-weight: bold\">Model: \"sequential_13\"</span>\n",
              "</pre>\n"
            ]
          },
          "metadata": {}
        },
        {
          "output_type": "display_data",
          "data": {
            "text/plain": [
              "┏━━━━━━━━━━━━━━━━━━━━━━━━━━━━━━━━━━━━━━┳━━━━━━━━━━━━━━━━━━━━━━━━━━━━━┳━━━━━━━━━━━━━━━━━┓\n",
              "┃\u001b[1m \u001b[0m\u001b[1mLayer (type)                        \u001b[0m\u001b[1m \u001b[0m┃\u001b[1m \u001b[0m\u001b[1mOutput Shape               \u001b[0m\u001b[1m \u001b[0m┃\u001b[1m \u001b[0m\u001b[1m        Param #\u001b[0m\u001b[1m \u001b[0m┃\n",
              "┡━━━━━━━━━━━━━━━━━━━━━━━━━━━━━━━━━━━━━━╇━━━━━━━━━━━━━━━━━━━━━━━━━━━━━╇━━━━━━━━━━━━━━━━━┩\n",
              "│ dense_47 (\u001b[38;5;33mDense\u001b[0m)                     │ (\u001b[38;5;45mNone\u001b[0m, \u001b[38;5;34m400\u001b[0m, \u001b[38;5;34m60\u001b[0m)             │           \u001b[38;5;34m1,260\u001b[0m │\n",
              "├──────────────────────────────────────┼─────────────────────────────┼─────────────────┤\n",
              "│ dropout_34 (\u001b[38;5;33mDropout\u001b[0m)                 │ (\u001b[38;5;45mNone\u001b[0m, \u001b[38;5;34m400\u001b[0m, \u001b[38;5;34m60\u001b[0m)             │               \u001b[38;5;34m0\u001b[0m │\n",
              "├──────────────────────────────────────┼─────────────────────────────┼─────────────────┤\n",
              "│ dense_48 (\u001b[38;5;33mDense\u001b[0m)                     │ (\u001b[38;5;45mNone\u001b[0m, \u001b[38;5;34m400\u001b[0m, \u001b[38;5;34m128\u001b[0m)            │           \u001b[38;5;34m7,808\u001b[0m │\n",
              "├──────────────────────────────────────┼─────────────────────────────┼─────────────────┤\n",
              "│ max_pooling1d_15 (\u001b[38;5;33mMaxPooling1D\u001b[0m)      │ (\u001b[38;5;45mNone\u001b[0m, \u001b[38;5;34m200\u001b[0m, \u001b[38;5;34m128\u001b[0m)            │               \u001b[38;5;34m0\u001b[0m │\n",
              "├──────────────────────────────────────┼─────────────────────────────┼─────────────────┤\n",
              "│ dropout_35 (\u001b[38;5;33mDropout\u001b[0m)                 │ (\u001b[38;5;45mNone\u001b[0m, \u001b[38;5;34m200\u001b[0m, \u001b[38;5;34m128\u001b[0m)            │               \u001b[38;5;34m0\u001b[0m │\n",
              "├──────────────────────────────────────┼─────────────────────────────┼─────────────────┤\n",
              "│ dense_49 (\u001b[38;5;33mDense\u001b[0m)                     │ (\u001b[38;5;45mNone\u001b[0m, \u001b[38;5;34m200\u001b[0m, \u001b[38;5;34m256\u001b[0m)            │          \u001b[38;5;34m33,024\u001b[0m │\n",
              "├──────────────────────────────────────┼─────────────────────────────┼─────────────────┤\n",
              "│ max_pooling1d_16 (\u001b[38;5;33mMaxPooling1D\u001b[0m)      │ (\u001b[38;5;45mNone\u001b[0m, \u001b[38;5;34m100\u001b[0m, \u001b[38;5;34m256\u001b[0m)            │               \u001b[38;5;34m0\u001b[0m │\n",
              "├──────────────────────────────────────┼─────────────────────────────┼─────────────────┤\n",
              "│ dropout_36 (\u001b[38;5;33mDropout\u001b[0m)                 │ (\u001b[38;5;45mNone\u001b[0m, \u001b[38;5;34m100\u001b[0m, \u001b[38;5;34m256\u001b[0m)            │               \u001b[38;5;34m0\u001b[0m │\n",
              "├──────────────────────────────────────┼─────────────────────────────┼─────────────────┤\n",
              "│ dense_50 (\u001b[38;5;33mDense\u001b[0m)                     │ (\u001b[38;5;45mNone\u001b[0m, \u001b[38;5;34m100\u001b[0m, \u001b[38;5;34m128\u001b[0m)            │          \u001b[38;5;34m32,896\u001b[0m │\n",
              "├──────────────────────────────────────┼─────────────────────────────┼─────────────────┤\n",
              "│ max_pooling1d_17 (\u001b[38;5;33mMaxPooling1D\u001b[0m)      │ (\u001b[38;5;45mNone\u001b[0m, \u001b[38;5;34m50\u001b[0m, \u001b[38;5;34m128\u001b[0m)             │               \u001b[38;5;34m0\u001b[0m │\n",
              "├──────────────────────────────────────┼─────────────────────────────┼─────────────────┤\n",
              "│ dropout_37 (\u001b[38;5;33mDropout\u001b[0m)                 │ (\u001b[38;5;45mNone\u001b[0m, \u001b[38;5;34m50\u001b[0m, \u001b[38;5;34m128\u001b[0m)             │               \u001b[38;5;34m0\u001b[0m │\n",
              "├──────────────────────────────────────┼─────────────────────────────┼─────────────────┤\n",
              "│ flatten_10 (\u001b[38;5;33mFlatten\u001b[0m)                 │ (\u001b[38;5;45mNone\u001b[0m, \u001b[38;5;34m6400\u001b[0m)                │               \u001b[38;5;34m0\u001b[0m │\n",
              "├──────────────────────────────────────┼─────────────────────────────┼─────────────────┤\n",
              "│ dense_51 (\u001b[38;5;33mDense\u001b[0m)                     │ (\u001b[38;5;45mNone\u001b[0m, \u001b[38;5;34m10\u001b[0m)                  │          \u001b[38;5;34m64,010\u001b[0m │\n",
              "└──────────────────────────────────────┴─────────────────────────────┴─────────────────┘\n"
            ],
            "text/html": [
              "<pre style=\"white-space:pre;overflow-x:auto;line-height:normal;font-family:Menlo,'DejaVu Sans Mono',consolas,'Courier New',monospace\">┏━━━━━━━━━━━━━━━━━━━━━━━━━━━━━━━━━━━━━━┳━━━━━━━━━━━━━━━━━━━━━━━━━━━━━┳━━━━━━━━━━━━━━━━━┓\n",
              "┃<span style=\"font-weight: bold\"> Layer (type)                         </span>┃<span style=\"font-weight: bold\"> Output Shape                </span>┃<span style=\"font-weight: bold\">         Param # </span>┃\n",
              "┡━━━━━━━━━━━━━━━━━━━━━━━━━━━━━━━━━━━━━━╇━━━━━━━━━━━━━━━━━━━━━━━━━━━━━╇━━━━━━━━━━━━━━━━━┩\n",
              "│ dense_47 (<span style=\"color: #0087ff; text-decoration-color: #0087ff\">Dense</span>)                     │ (<span style=\"color: #00d7ff; text-decoration-color: #00d7ff\">None</span>, <span style=\"color: #00af00; text-decoration-color: #00af00\">400</span>, <span style=\"color: #00af00; text-decoration-color: #00af00\">60</span>)             │           <span style=\"color: #00af00; text-decoration-color: #00af00\">1,260</span> │\n",
              "├──────────────────────────────────────┼─────────────────────────────┼─────────────────┤\n",
              "│ dropout_34 (<span style=\"color: #0087ff; text-decoration-color: #0087ff\">Dropout</span>)                 │ (<span style=\"color: #00d7ff; text-decoration-color: #00d7ff\">None</span>, <span style=\"color: #00af00; text-decoration-color: #00af00\">400</span>, <span style=\"color: #00af00; text-decoration-color: #00af00\">60</span>)             │               <span style=\"color: #00af00; text-decoration-color: #00af00\">0</span> │\n",
              "├──────────────────────────────────────┼─────────────────────────────┼─────────────────┤\n",
              "│ dense_48 (<span style=\"color: #0087ff; text-decoration-color: #0087ff\">Dense</span>)                     │ (<span style=\"color: #00d7ff; text-decoration-color: #00d7ff\">None</span>, <span style=\"color: #00af00; text-decoration-color: #00af00\">400</span>, <span style=\"color: #00af00; text-decoration-color: #00af00\">128</span>)            │           <span style=\"color: #00af00; text-decoration-color: #00af00\">7,808</span> │\n",
              "├──────────────────────────────────────┼─────────────────────────────┼─────────────────┤\n",
              "│ max_pooling1d_15 (<span style=\"color: #0087ff; text-decoration-color: #0087ff\">MaxPooling1D</span>)      │ (<span style=\"color: #00d7ff; text-decoration-color: #00d7ff\">None</span>, <span style=\"color: #00af00; text-decoration-color: #00af00\">200</span>, <span style=\"color: #00af00; text-decoration-color: #00af00\">128</span>)            │               <span style=\"color: #00af00; text-decoration-color: #00af00\">0</span> │\n",
              "├──────────────────────────────────────┼─────────────────────────────┼─────────────────┤\n",
              "│ dropout_35 (<span style=\"color: #0087ff; text-decoration-color: #0087ff\">Dropout</span>)                 │ (<span style=\"color: #00d7ff; text-decoration-color: #00d7ff\">None</span>, <span style=\"color: #00af00; text-decoration-color: #00af00\">200</span>, <span style=\"color: #00af00; text-decoration-color: #00af00\">128</span>)            │               <span style=\"color: #00af00; text-decoration-color: #00af00\">0</span> │\n",
              "├──────────────────────────────────────┼─────────────────────────────┼─────────────────┤\n",
              "│ dense_49 (<span style=\"color: #0087ff; text-decoration-color: #0087ff\">Dense</span>)                     │ (<span style=\"color: #00d7ff; text-decoration-color: #00d7ff\">None</span>, <span style=\"color: #00af00; text-decoration-color: #00af00\">200</span>, <span style=\"color: #00af00; text-decoration-color: #00af00\">256</span>)            │          <span style=\"color: #00af00; text-decoration-color: #00af00\">33,024</span> │\n",
              "├──────────────────────────────────────┼─────────────────────────────┼─────────────────┤\n",
              "│ max_pooling1d_16 (<span style=\"color: #0087ff; text-decoration-color: #0087ff\">MaxPooling1D</span>)      │ (<span style=\"color: #00d7ff; text-decoration-color: #00d7ff\">None</span>, <span style=\"color: #00af00; text-decoration-color: #00af00\">100</span>, <span style=\"color: #00af00; text-decoration-color: #00af00\">256</span>)            │               <span style=\"color: #00af00; text-decoration-color: #00af00\">0</span> │\n",
              "├──────────────────────────────────────┼─────────────────────────────┼─────────────────┤\n",
              "│ dropout_36 (<span style=\"color: #0087ff; text-decoration-color: #0087ff\">Dropout</span>)                 │ (<span style=\"color: #00d7ff; text-decoration-color: #00d7ff\">None</span>, <span style=\"color: #00af00; text-decoration-color: #00af00\">100</span>, <span style=\"color: #00af00; text-decoration-color: #00af00\">256</span>)            │               <span style=\"color: #00af00; text-decoration-color: #00af00\">0</span> │\n",
              "├──────────────────────────────────────┼─────────────────────────────┼─────────────────┤\n",
              "│ dense_50 (<span style=\"color: #0087ff; text-decoration-color: #0087ff\">Dense</span>)                     │ (<span style=\"color: #00d7ff; text-decoration-color: #00d7ff\">None</span>, <span style=\"color: #00af00; text-decoration-color: #00af00\">100</span>, <span style=\"color: #00af00; text-decoration-color: #00af00\">128</span>)            │          <span style=\"color: #00af00; text-decoration-color: #00af00\">32,896</span> │\n",
              "├──────────────────────────────────────┼─────────────────────────────┼─────────────────┤\n",
              "│ max_pooling1d_17 (<span style=\"color: #0087ff; text-decoration-color: #0087ff\">MaxPooling1D</span>)      │ (<span style=\"color: #00d7ff; text-decoration-color: #00d7ff\">None</span>, <span style=\"color: #00af00; text-decoration-color: #00af00\">50</span>, <span style=\"color: #00af00; text-decoration-color: #00af00\">128</span>)             │               <span style=\"color: #00af00; text-decoration-color: #00af00\">0</span> │\n",
              "├──────────────────────────────────────┼─────────────────────────────┼─────────────────┤\n",
              "│ dropout_37 (<span style=\"color: #0087ff; text-decoration-color: #0087ff\">Dropout</span>)                 │ (<span style=\"color: #00d7ff; text-decoration-color: #00d7ff\">None</span>, <span style=\"color: #00af00; text-decoration-color: #00af00\">50</span>, <span style=\"color: #00af00; text-decoration-color: #00af00\">128</span>)             │               <span style=\"color: #00af00; text-decoration-color: #00af00\">0</span> │\n",
              "├──────────────────────────────────────┼─────────────────────────────┼─────────────────┤\n",
              "│ flatten_10 (<span style=\"color: #0087ff; text-decoration-color: #0087ff\">Flatten</span>)                 │ (<span style=\"color: #00d7ff; text-decoration-color: #00d7ff\">None</span>, <span style=\"color: #00af00; text-decoration-color: #00af00\">6400</span>)                │               <span style=\"color: #00af00; text-decoration-color: #00af00\">0</span> │\n",
              "├──────────────────────────────────────┼─────────────────────────────┼─────────────────┤\n",
              "│ dense_51 (<span style=\"color: #0087ff; text-decoration-color: #0087ff\">Dense</span>)                     │ (<span style=\"color: #00d7ff; text-decoration-color: #00d7ff\">None</span>, <span style=\"color: #00af00; text-decoration-color: #00af00\">10</span>)                  │          <span style=\"color: #00af00; text-decoration-color: #00af00\">64,010</span> │\n",
              "└──────────────────────────────────────┴─────────────────────────────┴─────────────────┘\n",
              "</pre>\n"
            ]
          },
          "metadata": {}
        },
        {
          "output_type": "display_data",
          "data": {
            "text/plain": [
              "\u001b[1m Total params: \u001b[0m\u001b[38;5;34m138,998\u001b[0m (542.96 KB)\n"
            ],
            "text/html": [
              "<pre style=\"white-space:pre;overflow-x:auto;line-height:normal;font-family:Menlo,'DejaVu Sans Mono',consolas,'Courier New',monospace\"><span style=\"font-weight: bold\"> Total params: </span><span style=\"color: #00af00; text-decoration-color: #00af00\">138,998</span> (542.96 KB)\n",
              "</pre>\n"
            ]
          },
          "metadata": {}
        },
        {
          "output_type": "display_data",
          "data": {
            "text/plain": [
              "\u001b[1m Trainable params: \u001b[0m\u001b[38;5;34m138,998\u001b[0m (542.96 KB)\n"
            ],
            "text/html": [
              "<pre style=\"white-space:pre;overflow-x:auto;line-height:normal;font-family:Menlo,'DejaVu Sans Mono',consolas,'Courier New',monospace\"><span style=\"font-weight: bold\"> Trainable params: </span><span style=\"color: #00af00; text-decoration-color: #00af00\">138,998</span> (542.96 KB)\n",
              "</pre>\n"
            ]
          },
          "metadata": {}
        },
        {
          "output_type": "display_data",
          "data": {
            "text/plain": [
              "\u001b[1m Non-trainable params: \u001b[0m\u001b[38;5;34m0\u001b[0m (0.00 B)\n"
            ],
            "text/html": [
              "<pre style=\"white-space:pre;overflow-x:auto;line-height:normal;font-family:Menlo,'DejaVu Sans Mono',consolas,'Courier New',monospace\"><span style=\"font-weight: bold\"> Non-trainable params: </span><span style=\"color: #00af00; text-decoration-color: #00af00\">0</span> (0.00 B)\n",
              "</pre>\n"
            ]
          },
          "metadata": {}
        },
        {
          "output_type": "stream",
          "name": "stdout",
          "text": [
            "Epoch 1/20\n",
            "\u001b[1m16/16\u001b[0m \u001b[32m━━━━━━━━━━━━━━━━━━━━\u001b[0m\u001b[37m\u001b[0m \u001b[1m9s\u001b[0m 427ms/step - accuracy: 0.2050 - loss: 2.1887 - val_accuracy: 0.2191 - val_loss: 2.0398\n",
            "Epoch 2/20\n",
            "\u001b[1m16/16\u001b[0m \u001b[32m━━━━━━━━━━━━━━━━━━━━\u001b[0m\u001b[37m\u001b[0m \u001b[1m10s\u001b[0m 385ms/step - accuracy: 0.2525 - loss: 2.0234 - val_accuracy: 0.2423 - val_loss: 1.9975\n",
            "Epoch 3/20\n",
            "\u001b[1m16/16\u001b[0m \u001b[32m━━━━━━━━━━━━━━━━━━━━\u001b[0m\u001b[37m\u001b[0m \u001b[1m10s\u001b[0m 393ms/step - accuracy: 0.2675 - loss: 1.9769 - val_accuracy: 0.3196 - val_loss: 1.8664\n",
            "Epoch 4/20\n",
            "\u001b[1m16/16\u001b[0m \u001b[32m━━━━━━━━━━━━━━━━━━━━\u001b[0m\u001b[37m\u001b[0m \u001b[1m13s\u001b[0m 545ms/step - accuracy: 0.3331 - loss: 1.8199 - val_accuracy: 0.3969 - val_loss: 1.7446\n",
            "Epoch 5/20\n",
            "\u001b[1m16/16\u001b[0m \u001b[32m━━━━━━━━━━━━━━━━━━━━\u001b[0m\u001b[37m\u001b[0m \u001b[1m9s\u001b[0m 494ms/step - accuracy: 0.4269 - loss: 1.6510 - val_accuracy: 0.4768 - val_loss: 1.6125\n",
            "Epoch 6/20\n",
            "\u001b[1m16/16\u001b[0m \u001b[32m━━━━━━━━━━━━━━━━━━━━\u001b[0m\u001b[37m\u001b[0m \u001b[1m9s\u001b[0m 399ms/step - accuracy: 0.4752 - loss: 1.5244 - val_accuracy: 0.4716 - val_loss: 1.5328\n",
            "Epoch 7/20\n",
            "\u001b[1m16/16\u001b[0m \u001b[32m━━━━━━━━━━━━━━━━━━━━\u001b[0m\u001b[37m\u001b[0m \u001b[1m8s\u001b[0m 495ms/step - accuracy: 0.5189 - loss: 1.4101 - val_accuracy: 0.5180 - val_loss: 1.4071\n",
            "Epoch 8/20\n",
            "\u001b[1m16/16\u001b[0m \u001b[32m━━━━━━━━━━━━━━━━━━━━\u001b[0m\u001b[37m\u001b[0m \u001b[1m11s\u001b[0m 529ms/step - accuracy: 0.5910 - loss: 1.2222 - val_accuracy: 0.5773 - val_loss: 1.3113\n",
            "Epoch 9/20\n",
            "\u001b[1m16/16\u001b[0m \u001b[32m━━━━━━━━━━━━━━━━━━━━\u001b[0m\u001b[37m\u001b[0m \u001b[1m8s\u001b[0m 385ms/step - accuracy: 0.6065 - loss: 1.1306 - val_accuracy: 0.5851 - val_loss: 1.2499\n",
            "Epoch 10/20\n",
            "\u001b[1m16/16\u001b[0m \u001b[32m━━━━━━━━━━━━━━━━━━━━\u001b[0m\u001b[37m\u001b[0m \u001b[1m10s\u001b[0m 384ms/step - accuracy: 0.6732 - loss: 0.9902 - val_accuracy: 0.5851 - val_loss: 1.2027\n",
            "Epoch 11/20\n",
            "\u001b[1m16/16\u001b[0m \u001b[32m━━━━━━━━━━━━━━━━━━━━\u001b[0m\u001b[37m\u001b[0m \u001b[1m12s\u001b[0m 458ms/step - accuracy: 0.6641 - loss: 0.9694 - val_accuracy: 0.6082 - val_loss: 1.2309\n",
            "Epoch 12/20\n",
            "\u001b[1m16/16\u001b[0m \u001b[32m━━━━━━━━━━━━━━━━━━━━\u001b[0m\u001b[37m\u001b[0m \u001b[1m11s\u001b[0m 511ms/step - accuracy: 0.6862 - loss: 0.9410 - val_accuracy: 0.5928 - val_loss: 1.2012\n",
            "Epoch 13/20\n",
            "\u001b[1m16/16\u001b[0m \u001b[32m━━━━━━━━━━━━━━━━━━━━\u001b[0m\u001b[37m\u001b[0m \u001b[1m8s\u001b[0m 385ms/step - accuracy: 0.6892 - loss: 0.8674 - val_accuracy: 0.6237 - val_loss: 1.1050\n",
            "Epoch 14/20\n",
            "\u001b[1m16/16\u001b[0m \u001b[32m━━━━━━━━━━━━━━━━━━━━\u001b[0m\u001b[37m\u001b[0m \u001b[1m10s\u001b[0m 386ms/step - accuracy: 0.7564 - loss: 0.7397 - val_accuracy: 0.6314 - val_loss: 1.1557\n",
            "Epoch 15/20\n",
            "\u001b[1m16/16\u001b[0m \u001b[32m━━━━━━━━━━━━━━━━━━━━\u001b[0m\u001b[37m\u001b[0m \u001b[1m11s\u001b[0m 421ms/step - accuracy: 0.7259 - loss: 0.7862 - val_accuracy: 0.6546 - val_loss: 1.0968\n",
            "Epoch 16/20\n",
            "\u001b[1m16/16\u001b[0m \u001b[32m━━━━━━━━━━━━━━━━━━━━\u001b[0m\u001b[37m\u001b[0m \u001b[1m11s\u001b[0m 507ms/step - accuracy: 0.7888 - loss: 0.6487 - val_accuracy: 0.6649 - val_loss: 1.0413\n",
            "Epoch 17/20\n",
            "\u001b[1m16/16\u001b[0m \u001b[32m━━━━━━━━━━━━━━━━━━━━\u001b[0m\u001b[37m\u001b[0m \u001b[1m9s\u001b[0m 413ms/step - accuracy: 0.7909 - loss: 0.5958 - val_accuracy: 0.6856 - val_loss: 1.0414\n",
            "Epoch 18/20\n",
            "\u001b[1m16/16\u001b[0m \u001b[32m━━━━━━━━━━━━━━━━━━━━\u001b[0m\u001b[37m\u001b[0m \u001b[1m10s\u001b[0m 393ms/step - accuracy: 0.8172 - loss: 0.5640 - val_accuracy: 0.6985 - val_loss: 1.0266\n",
            "Epoch 19/20\n",
            "\u001b[1m16/16\u001b[0m \u001b[32m━━━━━━━━━━━━━━━━━━━━\u001b[0m\u001b[37m\u001b[0m \u001b[1m10s\u001b[0m 391ms/step - accuracy: 0.8366 - loss: 0.5113 - val_accuracy: 0.7268 - val_loss: 0.9604\n",
            "Epoch 20/20\n",
            "\u001b[1m16/16\u001b[0m \u001b[32m━━━━━━━━━━━━━━━━━━━━\u001b[0m\u001b[37m\u001b[0m \u001b[1m11s\u001b[0m 439ms/step - accuracy: 0.8347 - loss: 0.4746 - val_accuracy: 0.7268 - val_loss: 0.9723\n",
            "\u001b[1m16/16\u001b[0m \u001b[32m━━━━━━━━━━━━━━━━━━━━\u001b[0m\u001b[37m\u001b[0m \u001b[1m0s\u001b[0m 30ms/step - accuracy: 0.6952 - loss: 1.0667\n",
            "Neural network accuracy: 73.61%\n",
            "dict_keys(['accuracy', 'loss', 'val_accuracy', 'val_loss'])\n"
          ]
        },
        {
          "output_type": "display_data",
          "data": {
            "text/plain": [
              "<Figure size 640x480 with 1 Axes>"
            ],
            "image/png": "[encoded data removed]"
          },
          "metadata": {}
        },
        {
          "output_type": "display_data",
          "data": {
            "text/plain": [
              "<Figure size 640x480 with 1 Axes>"
            ],
            "image/png": "[encoded data removed]"
          },
          "metadata": {}
        }
      ]
    },
    {
      "cell_type": "code",
      "source": [
        "# Train the model with validation data\n",
        "history = model.fit(X_train, y_train, epochs=20, batch_size=100, validation_split=0.2)\n",
        "\n",
        "# Evaluate the model on test data\n",
        "scores = model.evaluate(X_test, y_test)\n",
        "print(\"Neural network accuracy: %.2f%%\" % (scores[1] * 100))\n",
        "\n",
        "# Plot training & validation accuracy values\n",
        "print(history.history.keys())"
      ],
      "metadata": {
        "id": "JU9Z7ywiKTZf"
      },
      "execution_count": null,
      "outputs": []
    },
    {
      "cell_type": "code",
      "source": [
        "# Affichage Accuracy\n",
        "plt.plot(history.history['accuracy'])\n",
        "plt.plot(history.history['val_accuracy'])\n",
        "plt.title('Model Accuracy')\n",
        "plt.ylabel('Accuracy')\n",
        "plt.xlabel('Epoch')\n",
        "plt.legend(['Train', 'Validation'], loc='upper left')\n",
        "plt.show()\n",
        "\n",
        "# Affichage Loss\n",
        "plt.plot(history.history['loss'])\n",
        "plt.plot(history.history['val_loss'])\n",
        "plt.title('Model Loss')\n",
        "plt.ylabel('Loss')\n",
        "plt.xlabel('Epoch')\n",
        "plt.legend(['Train', 'Validation'], loc='upper left')\n",
        "plt.show()"
      ],
      "metadata": {
        "id": "nafx5oGEKY3J"
      },
      "execution_count": null,
      "outputs": []
    }
  ]
}